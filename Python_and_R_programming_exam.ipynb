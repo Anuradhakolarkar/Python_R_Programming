{
  "nbformat": 4,
  "nbformat_minor": 0,
  "metadata": {
    "colab": {
      "name": "Python and R programming exam.ipynb",
      "provenance": []
    },
    "kernelspec": {
      "name": "python3",
      "display_name": "Python 3"
    },
    "language_info": {
      "name": "python"
    }
  },
  "cells": [
    {
      "cell_type": "markdown",
      "source": [
        "Q.1) Convert given hrs & mins in second "
      ],
      "metadata": {
        "id": "NpVgkxAQkroE"
      }
    },
    {
      "cell_type": "code",
      "execution_count": 20,
      "metadata": {
        "id": "pDZO6IfYeeBN",
        "colab": {
          "base_uri": "https://localhost:8080/"
        },
        "outputId": "17f03f88-f782-4d8d-e7b0-953e167cdad0"
      },
      "outputs": [
        {
          "output_type": "stream",
          "name": "stdout",
          "text": [
            "Enter hours:2\n",
            "Enter minutes:30\n",
            "2 hours and 30 minutes are total 9000 seconds.\n"
          ]
        }
      ],
      "source": [
        "hr=int(input(\"Enter hours:\"))\n",
        "min=int(input(\"Enter minutes:\"))\n",
        "sec=(hr*3600)+(min*60)\n",
        "print(hr,\"hours and\",min,\"minutes are total\",sec,\"seconds.\")"
      ]
    },
    {
      "cell_type": "markdown",
      "source": [
        "Q.3) Print\n",
        "1\n",
        "0 1\n",
        "0 1 0\n",
        "1 0 1 0\n",
        "1 0 1 0 1\n"
      ],
      "metadata": {
        "id": "NsVzVqVxoljO"
      }
    },
    {
      "cell_type": "code",
      "source": [
        "for i in range(1,6):\n",
        "  for j in range(i,i+i):\n",
        "    print(j%2,end=\" \")\n",
        "  print()  "
      ],
      "metadata": {
        "colab": {
          "base_uri": "https://localhost:8080/"
        },
        "id": "nz8v8CizoTQk",
        "outputId": "e80fd726-975e-455e-c235-2e4a0593ba61"
      },
      "execution_count": 6,
      "outputs": [
        {
          "output_type": "stream",
          "name": "stdout",
          "text": [
            "1 \n",
            "0 1 \n",
            "1 0 1 \n",
            "0 1 0 1 \n",
            "1 0 1 0 1 \n"
          ]
        }
      ]
    },
    {
      "cell_type": "markdown",
      "source": [
        "Q.6) Read file & count numbers of digit\n",
        "alphabets & symbols\n",
        "(hint one can compare using ‘a’ < digit <\n",
        "‘z‘"
      ],
      "metadata": {
        "id": "RqaF9_l30LkO"
      }
    },
    {
      "cell_type": "code",
      "source": [
        "a=input(\"Enter a string\")\n",
        "d=l=s=0\n",
        "for c in a:\n",
        "  if c.isdigit():\n",
        "    d=d+1\n",
        "  elif c.isalpha():\n",
        "    l=l+1\n",
        "  else:\n",
        "    pass\n",
        "  print(\"Letters\",l)\n",
        "  print(\"Digits\",d)   \n",
        "  print(\"Symbols\",s)   "
      ],
      "metadata": {
        "colab": {
          "base_uri": "https://localhost:8080/"
        },
        "id": "dTOABxid0PQG",
        "outputId": "49b63346-7a04-4237-ba0c-d6a23433c6c0"
      },
      "execution_count": 29,
      "outputs": [
        {
          "output_type": "stream",
          "name": "stdout",
          "text": [
            "Enter a stringanuradha@123\n",
            "Letters 1\n",
            "Digits 0\n",
            "Symbols 0\n",
            "Letters 2\n",
            "Digits 0\n",
            "Symbols 0\n",
            "Letters 3\n",
            "Digits 0\n",
            "Symbols 0\n",
            "Letters 4\n",
            "Digits 0\n",
            "Symbols 0\n",
            "Letters 5\n",
            "Digits 0\n",
            "Symbols 0\n",
            "Letters 6\n",
            "Digits 0\n",
            "Symbols 0\n",
            "Letters 7\n",
            "Digits 0\n",
            "Symbols 0\n",
            "Letters 8\n",
            "Digits 0\n",
            "Symbols 0\n",
            "Letters 8\n",
            "Digits 0\n",
            "Symbols 0\n",
            "Letters 8\n",
            "Digits 1\n",
            "Symbols 0\n",
            "Letters 8\n",
            "Digits 2\n",
            "Symbols 0\n",
            "Letters 8\n",
            "Digits 3\n",
            "Symbols 0\n"
          ]
        }
      ]
    },
    {
      "cell_type": "markdown",
      "source": [
        "Q.8) Print\n",
        "1\n",
        "3 3\n",
        "5 5 5\n",
        "6 6 6 6\n",
        "7 7 7 7 7"
      ],
      "metadata": {
        "id": "216C59v60Uwo"
      }
    },
    {
      "cell_type": "code",
      "source": [
        "for i in range(1,6,2):\n",
        "  for j in range(0,i+1,2):\n",
        "    print(i,end=\" \")\n",
        "  print()\n",
        "for k in range(6,8):\n",
        "  for j in range(1,k-1):\n",
        "    print(k,end=\" \")\n",
        "  print()      "
      ],
      "metadata": {
        "colab": {
          "base_uri": "https://localhost:8080/"
        },
        "id": "gVV0voXczbSw",
        "outputId": "00747c05-bff3-4f15-b830-664cf291eee3"
      },
      "execution_count": 25,
      "outputs": [
        {
          "output_type": "stream",
          "name": "stdout",
          "text": [
            "1 \n",
            "3 3 \n",
            "5 5 5 \n",
            "6 6 6 6 \n",
            "7 7 7 7 7 \n"
          ]
        }
      ]
    },
    {
      "cell_type": "markdown",
      "source": [
        "Q.9) Accept String & print only alternate\n",
        "characters on a string.\n",
        "Ex: this i s a _ test"
      ],
      "metadata": {
        "id": "ygJnOU6JxA4p"
      }
    },
    {
      "cell_type": "code",
      "source": [
        "s=input(\"Enter the string:\")\n",
        "print(s[1::2])\n"
      ],
      "metadata": {
        "colab": {
          "base_uri": "https://localhost:8080/"
        },
        "id": "HYwl7OMQxFBr",
        "outputId": "5a399aa4-c833-4922-cb17-32a229e4c50e"
      },
      "execution_count": 22,
      "outputs": [
        {
          "output_type": "stream",
          "name": "stdout",
          "text": [
            "Enter the string:anuradha\n",
            "nrda\n"
          ]
        }
      ]
    },
    {
      "cell_type": "markdown",
      "source": [
        "Q.10) Create menu driven code for\n",
        "1) Accept 2 numbers\n",
        "2) Add\n",
        "3) Sub\n",
        "4) Mul\n",
        "5) Div\n",
        "6) Exit"
      ],
      "metadata": {
        "id": "OrSXy8-qxYCx"
      }
    },
    {
      "cell_type": "code",
      "source": [
        "num1=float(input(\"Enter first number\"))\n",
        "num2=float(input(\"Enter second number\"))\n",
        "print(\"Enter which op to perform\")\n",
        "ch=input(\"Enter the operation +,-,*,/:\")\n",
        "result=0\n",
        "if ch == '+':\n",
        "  result = num1+num2\n",
        "elif ch == '-':\n",
        "  result = num1-num2\n",
        "elif ch == '*':\n",
        "  result = num1*num2\n",
        "elif ch == '/':\n",
        "  result = num1/num2\n",
        "else:\n",
        "  print(\"Invalid input\")\n",
        "\n",
        "\n",
        "print(num1,ch,num2, ':',result)"
      ],
      "metadata": {
        "colab": {
          "base_uri": "https://localhost:8080/"
        },
        "id": "AgEqQEdcxOag",
        "outputId": "53d5c7b9-19d3-4ed0-cdaa-c5d0da4829ef"
      },
      "execution_count": 23,
      "outputs": [
        {
          "output_type": "stream",
          "name": "stdout",
          "text": [
            "Enter first number5\n",
            "Enter second number7\n",
            "Enter which op to perform\n",
            "Enter the operation +,-,*,/:+\n",
            "5.0 + 7.0 : 12.0\n"
          ]
        }
      ]
    },
    {
      "cell_type": "markdown",
      "source": [
        "Q.7) Convert Paise in Rupees &\n",
        "Paises\n",
        "Ex: 350 is 3 Rupees 50 Paise\n",
        "3.50 print Rupees: 3\n",
        "Paise: 50"
      ],
      "metadata": {
        "id": "QAxazEqd29jL"
      }
    },
    {
      "cell_type": "code",
      "source": [
        "p = 100\n",
        "rs = int(input(\"Enter the amount in rupees : \"))\n",
        "total = rs * p\n",
        "print(total,\"Paise\")"
      ],
      "metadata": {
        "colab": {
          "base_uri": "https://localhost:8080/"
        },
        "id": "ef2HqZq-ygRr",
        "outputId": "5113bbfc-b2b8-4754-f2bd-2be42cca46fe"
      },
      "execution_count": 28,
      "outputs": [
        {
          "output_type": "stream",
          "name": "stdout",
          "text": [
            "Enter the amount in rupees : 7\n",
            "700 Paise\n"
          ]
        }
      ]
    },
    {
      "cell_type": "code",
      "source": [
        ""
      ],
      "metadata": {
        "id": "LVAKs0mj3RvU"
      },
      "execution_count": null,
      "outputs": []
    }
  ]
}